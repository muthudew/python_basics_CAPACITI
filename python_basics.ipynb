{
 "cells": [
  {
   "cell_type": "markdown",
   "id": "48a16e46",
   "metadata": {},
   "source": [
    "\n",
    "\n",
    "# <span style=\"color:tomato\">Byte & Beyond </span>\n",
    "\n",
    "<span style=\"color:mediumseagreen\">* Team members : Cate , Frank , Nthabiseng , Tracey-Lee , Winnie</span>  \n"
   ]
  },
  {
   "cell_type": "markdown",
   "id": "46524dbf",
   "metadata": {},
   "source": [
    "# List for names and ages.\n"
   ]
  },
  {
   "cell_type": "code",
   "execution_count": 2,
   "id": "3a52f063",
   "metadata": {},
   "outputs": [],
   "source": [
    "names = [] # Stores 10 names \n",
    "ages = [] # stores corresponding ages"
   ]
  },
  {
   "cell_type": "code",
   "execution_count": 3,
   "id": "ff1d3f03",
   "metadata": {},
   "outputs": [],
   "source": [
    "names = [\"Lehlogonolo\", \"Sam\", \"Charlie\", \"David\", \"Winnie\", \"Frank\", \"Tracey\", \"Hannah\", \"Ivy\", \"Nthabi\"]  \n",
    "ages = [24, 30, 22, 28, 27, 28, 23, 44, 31, 24]  "
   ]
  },
  {
   "cell_type": "markdown",
   "id": "3df1f662",
   "metadata": {},
   "source": [
    "# Displaying the data "
   ]
  },
  {
   "cell_type": "code",
   "execution_count": 11,
   "id": "84a22eeb",
   "metadata": {},
   "outputs": [
    {
     "name": "stdout",
     "output_type": "stream",
     "text": [
      "Name : ['Lehlogonolo', 'Sam', 'Charlie', 'David', 'Winnie', 'Frank', 'Tracey', 'Hannah', 'Ivy', 'Nthabi']\n",
      "Age  : [24, 30, 22, 28, 27, 28, 23, 44, 31, 24]\n"
     ]
    }
   ],
   "source": [
    "print(\"Name :\",names)\n",
    "print(\"Age  :\",ages)"
   ]
  },
  {
   "cell_type": "markdown",
   "id": "9e84ed20",
   "metadata": {},
   "source": [
    "# Displaying in a table format"
   ]
  },
  {
   "cell_type": "code",
   "execution_count": 10,
   "id": "9d18632c",
   "metadata": {},
   "outputs": [
    {
     "name": "stdout",
     "output_type": "stream",
     "text": [
      "          Name  Age\n",
      "0  Lehlogonolo   24\n",
      "1          Sam   30\n",
      "2      Charlie   22\n",
      "3        David   28\n",
      "4       Winnie   27\n",
      "5        Frank   28\n",
      "6       Tracey   23\n",
      "7       Hannah   44\n",
      "8          Ivy   31\n",
      "9       Nthabi   24\n"
     ]
    }
   ],
   "source": [
    "import pandas as pd  \n",
    "data = {\"Name\": names, \"Age\": ages}  \n",
    "df = pd.DataFrame(data)  \n",
    "print(df)  "
   ]
  },
  {
   "cell_type": "markdown",
   "id": "97b94c5a",
   "metadata": {},
   "source": [
    "# Finding the oldest/yougest"
   ]
  },
  {
   "cell_type": "code",
   "execution_count": 12,
   "id": "377d94d6",
   "metadata": {},
   "outputs": [
    {
     "name": "stdout",
     "output_type": "stream",
     "text": [
      "Oldest Age  : 44\n",
      "Youngest Age: 22\n"
     ]
    }
   ],
   "source": [
    "oldest = max(ages)  \n",
    "youngest = min(ages)  \n",
    "print(\"Oldest Age  :\", oldest)  \n",
    "print(\"Youngest Age:\", youngest)  "
   ]
  }
 ],
 "metadata": {
  "kernelspec": {
   "display_name": ".venv",
   "language": "python",
   "name": "python3"
  },
  "language_info": {
   "codemirror_mode": {
    "name": "ipython",
    "version": 3
   },
   "file_extension": ".py",
   "mimetype": "text/x-python",
   "name": "python",
   "nbconvert_exporter": "python",
   "pygments_lexer": "ipython3",
   "version": "3.13.3"
  }
 },
 "nbformat": 4,
 "nbformat_minor": 5
}
